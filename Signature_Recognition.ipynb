{
 "cells": [
  {
   "cell_type": "markdown",
   "metadata": {},
   "source": [
    "### 1. Importing Library"
   ]
  },
  {
   "cell_type": "code",
   "execution_count": 1,
   "metadata": {},
   "outputs": [],
   "source": [
    "import pandas as pd\n",
    "import numpy as np\n",
    "import cv2 as cv\n",
    "import os\n",
    "import matplotlib.pyplot as plt\n",
    "\n",
    "from tensorflow.keras import applications\n",
    "from tensorflow import keras\n",
    "from tensorflow.keras import layers\n",
    "from tensorflow.keras import Sequential\n",
    "from tensorflow.keras.models import Sequential, Model, load_model\n",
    "from tensorflow.keras import applications\n",
    "from tensorflow.keras import optimizers\n",
    "from tensorflow.keras.layers import Dropout, Flatten, Dense\n",
    "from tensorflow.keras.optimizers import Adam\n",
    "from sklearn.utils import shuffle\n",
    "from sklearn.metrics import accuracy_score\n",
    "from sklearn.linear_model import LogisticRegression\n",
    "from tensorflow.keras.callbacks import ModelCheckpoint, LearningRateScheduler, EarlyStopping, ReduceLROnPlateau, TensorBoard\n",
    "from tensorflow.keras import backend as K\n",
    "from tensorflow.keras.preprocessing.image import img_to_array\n",
    "import gc\n",
    "from tensorflow.keras.models import Model"
   ]
  },
  {
   "cell_type": "markdown",
   "metadata": {},
   "source": [
    "### 2. Data Loading and Data Preprocessing"
   ]
  },
  {
   "cell_type": "code",
   "execution_count": 2,
   "metadata": {},
   "outputs": [],
   "source": [
    "train_dir = \"../sign_data/train\"\n",
    "test_dir = \"../sign_data/test\"\n"
   ]
  },
  {
   "cell_type": "code",
   "execution_count": 3,
   "metadata": {},
   "outputs": [],
   "source": [
    "# Check if directory is connected\n",
    "# entries = os.listdir(train_dir)\n",
    "# entry = os.listdir(os.path.join(train_dir, entries[0]))\n",
    "# image = train_dir + '/' + entries[0] + '/' + entry[0]\n",
    "# img = plt.imread(image)\n",
    "# plt.imshow(img)"
   ]
  },
  {
   "cell_type": "markdown",
   "metadata": {},
   "source": [
    "### 3. Create Training and Test Data"
   ]
  },
  {
   "cell_type": "code",
   "execution_count": 4,
   "metadata": {},
   "outputs": [],
   "source": [
    "size = 224"
   ]
  },
  {
   "cell_type": "code",
   "execution_count": 5,
   "metadata": {},
   "outputs": [],
   "source": [
    "train_data_names = []\n",
    "test_data_names = []\n",
    "\n",
    "# Train Data\n",
    "train_data = []\n",
    "train_labels = []\n",
    "\n",
    "for data in os.listdir(train_dir):\n",
    "    for datum in os.listdir(os.path.join(train_dir, data)):\n",
    "        train_data_names.append(datum)\n",
    "        image = train_dir + '/' + data + '/' + datum\n",
    "        img = plt.imread(image)\n",
    "        img = cv.cvtColor(img, cv.COLOR_BGR2RGB)\n",
    "        img = cv.resize(img, (size, size))\n",
    "        train_data.append([img])\n",
    "\n",
    "        if data[-1]=='g':\n",
    "            train_labels.append(np.array(1))\n",
    "        else:\n",
    "            train_labels.append(np.array(0))\n",
    "\n",
    "train_data = np.array(train_data)/255.0\n",
    "train_labels = np.array(train_labels)\n",
    "\n",
    "# Test Data\n",
    "test_data = []\n",
    "test_labels = []\n",
    "\n",
    "for data in os.listdir(test_dir):\n",
    "    for datum in os.listdir(os.path.join(test_dir, data)):\n",
    "        test_data_names.append(datum)\n",
    "        image = test_dir + '/' + data + '/' + datum\n",
    "        img = plt.imread(image)\n",
    "        img = cv.cvtColor(img, cv.COLOR_BGR2RGB)\n",
    "        img = cv.resize(img, (size, size))\n",
    "        test_data.append([img])\n",
    "\n",
    "        if data[-1]=='g':\n",
    "            test_labels.append(np.array(1))\n",
    "        else:\n",
    "            test_labels.append(np.array(0))\n",
    "        \n",
    "test_data = np.array(test_data)/255.0\n",
    "test_labels = np.array(test_labels)"
   ]
  },
  {
   "cell_type": "code",
   "execution_count": 6,
   "metadata": {},
   "outputs": [],
   "source": [
    "# train_labels[1:1000]"
   ]
  },
  {
   "cell_type": "code",
   "execution_count": 7,
   "metadata": {},
   "outputs": [
    {
     "name": "stdout",
     "output_type": "stream",
     "text": [
      "(1649,)\n",
      "(1649, 1, 224, 224, 3)\n",
      "(1649, 224, 224, 3)\n",
      "(500, 224, 224, 3)\n"
     ]
    }
   ],
   "source": [
    "from tensorflow.keras.utils import to_categorical\n",
    "print(train_labels.shape)\n",
    "train_labels = to_categorical(train_labels)\n",
    "print(train_data.shape)\n",
    "train_data = train_data.reshape(-1, size, size, 3)\n",
    "test_data = test_data.reshape(-1, size, size, 3)\n",
    "print(train_data.shape)\n",
    "print(test_data.shape)"
   ]
  },
  {
   "cell_type": "markdown",
   "metadata": {},
   "source": [
    "### 4. Feature Extraction"
   ]
  },
  {
   "cell_type": "code",
   "execution_count": 8,
   "metadata": {},
   "outputs": [],
   "source": [
    "from tensorflow.keras.applications import VGG16\n",
    "\n",
    "base_model = VGG16(weights = 'imagenet', include_top = False, input_shape = (size, size, 3))"
   ]
  },
  {
   "cell_type": "code",
   "execution_count": 9,
   "metadata": {},
   "outputs": [
    {
     "name": "stderr",
     "output_type": "stream",
     "text": [
      "WARNING:absl:`lr` is deprecated in Keras optimizer, please use `learning_rate` or use the legacy optimizer, e.g.,tf.keras.optimizers.legacy.Adam.\n"
     ]
    },
    {
     "name": "stdout",
     "output_type": "stream",
     "text": [
      "Model: \"model\"\n",
      "_________________________________________________________________\n",
      " Layer (type)                Output Shape              Param #   \n",
      "=================================================================\n",
      " vgg16_input (InputLayer)    [(None, 224, 224, 3)]     0         \n",
      "                                                                 \n",
      " vgg16 (Functional)          (None, 7, 7, 512)         14714688  \n",
      "                                                                 \n",
      " flatten (Flatten)           (None, 25088)             0         \n",
      "                                                                 \n",
      " dense (Dense)               (None, 256)               6422784   \n",
      "                                                                 \n",
      " dense_1 (Dense)             (None, 2)                 514       \n",
      "                                                                 \n",
      "=================================================================\n",
      "Total params: 21137986 (80.64 MB)\n",
      "Trainable params: 21137986 (80.64 MB)\n",
      "Non-trainable params: 0 (0.00 Byte)\n",
      "_________________________________________________________________\n",
      "Epoch 1/6\n",
      "19/19 [==============================] - 1606s 85s/step - loss: 2.1455 - accuracy: 0.5373 - val_loss: 0.7970 - val_accuracy: 0.4990\n",
      "Epoch 2/6\n",
      "19/19 [==============================] - 1663s 87s/step - loss: 0.6899 - accuracy: 0.5511 - val_loss: 0.6935 - val_accuracy: 0.4990\n",
      "Epoch 3/6\n",
      "19/19 [==============================] - 1625s 86s/step - loss: 0.6917 - accuracy: 0.5546 - val_loss: 0.6933 - val_accuracy: 0.4990\n",
      "Epoch 4/6\n",
      "19/19 [==============================] - 1565s 83s/step - loss: 0.6889 - accuracy: 0.5546 - val_loss: 0.7120 - val_accuracy: 0.4990\n",
      "Epoch 5/6\n",
      "19/19 [==============================] - 1526s 81s/step - loss: 0.6954 - accuracy: 0.5546 - val_loss: 0.6938 - val_accuracy: 0.4990\n",
      "Epoch 6/6\n",
      "19/19 [==============================] - 1763s 95s/step - loss: 0.6907 - accuracy: 0.5546 - val_loss: 0.6937 - val_accuracy: 0.4990\n",
      "Epoch 6: early stopping\n"
     ]
    },
    {
     "data": {
      "image/png": "[encoded data removed]",
      "text/plain": [
       "<Figure size 640x480 with 1 Axes>"
      ]
     },
     "metadata": {},
     "output_type": "display_data"
    },
    {
     "data": {
      "text/plain": [
       "<Figure size 640x480 with 0 Axes>"
      ]
     },
     "metadata": {},
     "output_type": "display_data"
    },
    {
     "data": {
      "image/png": "[encoded data removed]",
      "text/plain": [
       "<Figure size 640x480 with 1 Axes>"
      ]
     },
     "metadata": {},
     "output_type": "display_data"
    },
    {
     "name": "stdout",
     "output_type": "stream",
     "text": [
      "52/52 [==============================] - 604s 12s/step\n",
      "16/16 [==============================] - 180s 11s/step\n"
     ]
    }
   ],
   "source": [
    "model = Sequential()\n",
    "data_augmentation = keras.Sequential([layers.experimental.preprocessing.RandomRotation(0.1)])\n",
    "model.add(base_model)\n",
    "model.add(Flatten(input_shape=base_model.output_shape[1:]))\n",
    "model.add(Dense(256, activation='relu'))\n",
    "model.add(Dense(2, activation='sigmoid'))\n",
    "\n",
    "model = Model(inputs=model.input, outputs=model.output)\n",
    "model.compile(loss='categorical_crossentropy', optimizer=optimizers.Adam(lr=1e-4),\n",
    "              metrics=['accuracy'])\n",
    "\n",
    "model.summary()\n",
    "\n",
    "earlyStopping = EarlyStopping(monitor='val_loss', min_delta=0, patience=3, verbose=1)\n",
    "\n",
    "early_stop=[earlyStopping]\n",
    "progess = model.fit(train_data,train_labels, batch_size=64,epochs=6, callbacks=early_stop,validation_split=.3)\n",
    "acc = progess.history['accuracy']\n",
    "val_acc = progess.history['val_accuracy']\n",
    "loss = progess.history['loss']\n",
    "val_loss = progess.history['val_loss']\n",
    "\n",
    "epochs = range(len(acc))\n",
    "\n",
    "plt.plot(epochs, acc, 'b', label='Training acc')\n",
    "plt.plot(epochs, val_acc, 'r', label='Validation acc')\n",
    "plt.title('Training and validation accuracy')\n",
    "plt.legend()\n",
    "plt.figure()\n",
    "plt.show()\n",
    "\n",
    "plt.plot(epochs, loss, 'b', label='Training loss')\n",
    "plt.plot(epochs, val_loss, 'r', label='Validation loss')\n",
    "plt.title('Training and validation loss')\n",
    "plt.legend()\n",
    "plt.show()\n",
    "\n",
    "intermediate_layer_model = Model(inputs=model.input, outputs=model.layers[-2].output)\n",
    "intermediate_output_train = intermediate_layer_model.predict(train_data)\n",
    "intermediate_output_test = intermediate_layer_model.predict(test_data)\n",
    "\n",
    "np.save('./VGG16_Adam_train', intermediate_output_train)\n",
    "np.save('./VGG16_Adam_test', intermediate_output_test)"
   ]
  }
 ],
 "metadata": {
  "kernelspec": {
   "display_name": "Python 3",
   "language": "python",
   "name": "python3"
  },
  "language_info": {
   "codemirror_mode": {
    "name": "ipython",
    "version": 3
   },
   "file_extension": ".py",
   "mimetype": "text/x-python",
   "name": "python",
   "nbconvert_exporter": "python",
   "pygments_lexer": "ipython3",
   "version": "3.11.1"
  },
  "orig_nbformat": 4
 },
 "nbformat": 4,
 "nbformat_minor": 2
}
